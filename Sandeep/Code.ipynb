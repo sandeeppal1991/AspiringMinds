{
 "cells": [
  {
   "cell_type": "markdown",
   "metadata": {},
   "source": [
    "#### Imports"
   ]
  },
  {
   "cell_type": "code",
   "execution_count": 33,
   "metadata": {
    "collapsed": true
   },
   "outputs": [],
   "source": [
    "import pandas as pd\n",
    "import numpy as np\n",
    "pd.set_option('display.max_columns', None)\n",
    "\n",
    "import math\n",
    "import datetime\n",
    "import seaborn as sns\n",
    "import matplotlib\n",
    "import matplotlib.pyplot as plt\n",
    "%matplotlib inline\n",
    "plt.style.use('ggplot')\n",
    "\n",
    "from sklearn.model_selection import train_test_split\n",
    "from sklearn.multiclass import OneVsRestClassifier\n",
    "from sklearn.svm import LinearSVC\n",
    "from sklearn.ensemble import RandomForestClassifier\n",
    "from sklearn.metrics import roc_auc_score, precision_score, recall_score, accuracy_score, confusion_matrix\n",
    "from sklearn.utils import resample"
   ]
  },
  {
   "cell_type": "code",
   "execution_count": 134,
   "metadata": {
    "collapsed": true
   },
   "outputs": [],
   "source": [
    "df_main = pd.read_csv('Data.csv')"
   ]
  },
  {
   "cell_type": "code",
   "execution_count": 135,
   "metadata": {},
   "outputs": [
    {
     "data": {
      "text/html": [
       "<div>\n",
       "<style>\n",
       "    .dataframe thead tr:only-child th {\n",
       "        text-align: right;\n",
       "    }\n",
       "\n",
       "    .dataframe thead th {\n",
       "        text-align: left;\n",
       "    }\n",
       "\n",
       "    .dataframe tbody tr th {\n",
       "        vertical-align: top;\n",
       "    }\n",
       "</style>\n",
       "<table border=\"1\" class=\"dataframe\">\n",
       "  <thead>\n",
       "    <tr style=\"text-align: right;\">\n",
       "      <th></th>\n",
       "      <th>ID</th>\n",
       "      <th>Salary</th>\n",
       "      <th>DOJ</th>\n",
       "      <th>DOL</th>\n",
       "      <th>Original Designation</th>\n",
       "      <th>Designation</th>\n",
       "      <th>Domain</th>\n",
       "      <th>JobCity</th>\n",
       "      <th>Gender</th>\n",
       "      <th>DOB</th>\n",
       "      <th>10percentage</th>\n",
       "      <th>10board</th>\n",
       "      <th>12graduation</th>\n",
       "      <th>12percentage</th>\n",
       "      <th>12board</th>\n",
       "      <th>CollegeID</th>\n",
       "      <th>CollegeTier</th>\n",
       "      <th>Degree</th>\n",
       "      <th>Specialization</th>\n",
       "      <th>collegeGPA</th>\n",
       "      <th>CollegeCityID</th>\n",
       "      <th>CollegeCityTier</th>\n",
       "      <th>CollegeState</th>\n",
       "      <th>GraduationYear</th>\n",
       "      <th>English</th>\n",
       "      <th>Logical</th>\n",
       "      <th>Quant</th>\n",
       "      <th>DomainScore</th>\n",
       "      <th>ComputerProgramming</th>\n",
       "      <th>ElectronicsAndSemicon</th>\n",
       "      <th>ComputerScience</th>\n",
       "      <th>MechanicalEngg</th>\n",
       "      <th>ElectricalEngg</th>\n",
       "      <th>TelecomEngg</th>\n",
       "      <th>CivilEngg</th>\n",
       "      <th>conscientiousness</th>\n",
       "      <th>agreeableness</th>\n",
       "      <th>extraversion</th>\n",
       "      <th>nueroticism</th>\n",
       "      <th>openess_to_experience</th>\n",
       "    </tr>\n",
       "  </thead>\n",
       "  <tbody>\n",
       "    <tr>\n",
       "      <th>0</th>\n",
       "      <td>42418</td>\n",
       "      <td>435000.0</td>\n",
       "      <td>5/1/2010 0:00</td>\n",
       "      <td>6/1/2014 0:00</td>\n",
       "      <td>electrical engineer</td>\n",
       "      <td>electrical engineer</td>\n",
       "      <td>Engineering</td>\n",
       "      <td>Bhopal</td>\n",
       "      <td>f</td>\n",
       "      <td>10/23/1987 0:00</td>\n",
       "      <td>65.0</td>\n",
       "      <td>cbse</td>\n",
       "      <td>2005</td>\n",
       "      <td>54.0</td>\n",
       "      <td>cbse</td>\n",
       "      <td>402</td>\n",
       "      <td>1</td>\n",
       "      <td>B.Tech/B.E.</td>\n",
       "      <td>biomedical engineering</td>\n",
       "      <td>65.90</td>\n",
       "      <td>402</td>\n",
       "      <td>0</td>\n",
       "      <td>Madhya Pradesh</td>\n",
       "      <td>2010</td>\n",
       "      <td>405</td>\n",
       "      <td>425</td>\n",
       "      <td>405</td>\n",
       "      <td>0.0</td>\n",
       "      <td>0</td>\n",
       "      <td>0</td>\n",
       "      <td>0</td>\n",
       "      <td>0</td>\n",
       "      <td>0</td>\n",
       "      <td>0</td>\n",
       "      <td>0</td>\n",
       "      <td>0.9737</td>\n",
       "      <td>-0.2793</td>\n",
       "      <td>-1.2148</td>\n",
       "      <td>-0.8778</td>\n",
       "      <td>0.5024</td>\n",
       "    </tr>\n",
       "    <tr>\n",
       "      <th>1</th>\n",
       "      <td>214964</td>\n",
       "      <td>315000.0</td>\n",
       "      <td>8/1/2011 0:00</td>\n",
       "      <td>7/1/2012 0:00</td>\n",
       "      <td>senior software engineer</td>\n",
       "      <td>senior software engineer</td>\n",
       "      <td>Engineering</td>\n",
       "      <td>Mumbai</td>\n",
       "      <td>f</td>\n",
       "      <td>12/25/1988 0:00</td>\n",
       "      <td>88.4</td>\n",
       "      <td>cbse</td>\n",
       "      <td>2006</td>\n",
       "      <td>79.2</td>\n",
       "      <td>cbse</td>\n",
       "      <td>332</td>\n",
       "      <td>1</td>\n",
       "      <td>B.Tech/B.E.</td>\n",
       "      <td>biomedical engineering</td>\n",
       "      <td>69.54</td>\n",
       "      <td>332</td>\n",
       "      <td>0</td>\n",
       "      <td>Punjab</td>\n",
       "      <td>2011</td>\n",
       "      <td>525</td>\n",
       "      <td>705</td>\n",
       "      <td>524</td>\n",
       "      <td>0.0</td>\n",
       "      <td>0</td>\n",
       "      <td>0</td>\n",
       "      <td>0</td>\n",
       "      <td>0</td>\n",
       "      <td>0</td>\n",
       "      <td>0</td>\n",
       "      <td>0</td>\n",
       "      <td>0.9737</td>\n",
       "      <td>-0.1232</td>\n",
       "      <td>-1.0697</td>\n",
       "      <td>1.5899</td>\n",
       "      <td>0.9763</td>\n",
       "    </tr>\n",
       "    <tr>\n",
       "      <th>2</th>\n",
       "      <td>900218</td>\n",
       "      <td>420000.0</td>\n",
       "      <td>7/1/2010 0:00</td>\n",
       "      <td>8/1/2011 0:00</td>\n",
       "      <td>management trainee</td>\n",
       "      <td>trainee manager</td>\n",
       "      <td>Management</td>\n",
       "      <td>NCR</td>\n",
       "      <td>m</td>\n",
       "      <td>1/11/1988 0:00</td>\n",
       "      <td>82.0</td>\n",
       "      <td>cbse</td>\n",
       "      <td>2005</td>\n",
       "      <td>75.8</td>\n",
       "      <td>cbse</td>\n",
       "      <td>443</td>\n",
       "      <td>1</td>\n",
       "      <td>M.Tech./M.E.</td>\n",
       "      <td>other</td>\n",
       "      <td>82.50</td>\n",
       "      <td>443</td>\n",
       "      <td>0</td>\n",
       "      <td>Uttar Pradesh</td>\n",
       "      <td>2014</td>\n",
       "      <td>625</td>\n",
       "      <td>520</td>\n",
       "      <td>705</td>\n",
       "      <td>0.0</td>\n",
       "      <td>0</td>\n",
       "      <td>0</td>\n",
       "      <td>0</td>\n",
       "      <td>0</td>\n",
       "      <td>0</td>\n",
       "      <td>0</td>\n",
       "      <td>0</td>\n",
       "      <td>-1.8825</td>\n",
       "      <td>0.5454</td>\n",
       "      <td>-0.9122</td>\n",
       "      <td>-0.1076</td>\n",
       "      <td>-1.4356</td>\n",
       "    </tr>\n",
       "    <tr>\n",
       "      <th>3</th>\n",
       "      <td>220655</td>\n",
       "      <td>400000.0</td>\n",
       "      <td>6/1/2011 0:00</td>\n",
       "      <td>3/1/2013 0:00</td>\n",
       "      <td>team leader</td>\n",
       "      <td>technical lead</td>\n",
       "      <td>Management</td>\n",
       "      <td>Chandigarh</td>\n",
       "      <td>m</td>\n",
       "      <td>11/16/1989 0:00</td>\n",
       "      <td>88.2</td>\n",
       "      <td>cbse</td>\n",
       "      <td>2007</td>\n",
       "      <td>77.8</td>\n",
       "      <td>cbse</td>\n",
       "      <td>285</td>\n",
       "      <td>1</td>\n",
       "      <td>B.Tech/B.E.</td>\n",
       "      <td>chemical engineering</td>\n",
       "      <td>62.40</td>\n",
       "      <td>285</td>\n",
       "      <td>0</td>\n",
       "      <td>Punjab</td>\n",
       "      <td>2011</td>\n",
       "      <td>595</td>\n",
       "      <td>695</td>\n",
       "      <td>575</td>\n",
       "      <td>0.0</td>\n",
       "      <td>0</td>\n",
       "      <td>0</td>\n",
       "      <td>0</td>\n",
       "      <td>0</td>\n",
       "      <td>0</td>\n",
       "      <td>0</td>\n",
       "      <td>0</td>\n",
       "      <td>-1.0355</td>\n",
       "      <td>0.9688</td>\n",
       "      <td>-0.6343</td>\n",
       "      <td>-0.4078</td>\n",
       "      <td>0.0284</td>\n",
       "    </tr>\n",
       "    <tr>\n",
       "      <th>4</th>\n",
       "      <td>962376</td>\n",
       "      <td>700000.0</td>\n",
       "      <td>7/1/2014 0:00</td>\n",
       "      <td>NaN</td>\n",
       "      <td>product manager</td>\n",
       "      <td>product manager</td>\n",
       "      <td>Management</td>\n",
       "      <td>Jaipur</td>\n",
       "      <td>m</td>\n",
       "      <td>1/3/1992 0:00</td>\n",
       "      <td>87.4</td>\n",
       "      <td>cbse</td>\n",
       "      <td>2009</td>\n",
       "      <td>74.0</td>\n",
       "      <td>state board</td>\n",
       "      <td>436</td>\n",
       "      <td>1</td>\n",
       "      <td>M.Tech./M.E.</td>\n",
       "      <td>other</td>\n",
       "      <td>72.79</td>\n",
       "      <td>436</td>\n",
       "      <td>0</td>\n",
       "      <td>Uttarakhand</td>\n",
       "      <td>2014</td>\n",
       "      <td>625</td>\n",
       "      <td>450</td>\n",
       "      <td>655</td>\n",
       "      <td>0.0</td>\n",
       "      <td>0</td>\n",
       "      <td>0</td>\n",
       "      <td>0</td>\n",
       "      <td>0</td>\n",
       "      <td>0</td>\n",
       "      <td>0</td>\n",
       "      <td>0</td>\n",
       "      <td>-0.3027</td>\n",
       "      <td>-0.4536</td>\n",
       "      <td>-0.6048</td>\n",
       "      <td>-0.8682</td>\n",
       "      <td>0.0973</td>\n",
       "    </tr>\n",
       "  </tbody>\n",
       "</table>\n",
       "</div>"
      ],
      "text/plain": [
       "       ID    Salary            DOJ            DOL      Original Designation  \\\n",
       "0   42418  435000.0  5/1/2010 0:00  6/1/2014 0:00       electrical engineer   \n",
       "1  214964  315000.0  8/1/2011 0:00  7/1/2012 0:00  senior software engineer   \n",
       "2  900218  420000.0  7/1/2010 0:00  8/1/2011 0:00        management trainee   \n",
       "3  220655  400000.0  6/1/2011 0:00  3/1/2013 0:00               team leader   \n",
       "4  962376  700000.0  7/1/2014 0:00            NaN           product manager   \n",
       "\n",
       "                Designation       Domain     JobCity Gender              DOB  \\\n",
       "0       electrical engineer  Engineering      Bhopal      f  10/23/1987 0:00   \n",
       "1  senior software engineer  Engineering      Mumbai      f  12/25/1988 0:00   \n",
       "2           trainee manager   Management         NCR      m   1/11/1988 0:00   \n",
       "3            technical lead   Management  Chandigarh      m  11/16/1989 0:00   \n",
       "4           product manager   Management      Jaipur      m    1/3/1992 0:00   \n",
       "\n",
       "   10percentage 10board  12graduation  12percentage      12board  CollegeID  \\\n",
       "0          65.0    cbse          2005          54.0         cbse        402   \n",
       "1          88.4    cbse          2006          79.2         cbse        332   \n",
       "2          82.0    cbse          2005          75.8         cbse        443   \n",
       "3          88.2    cbse          2007          77.8         cbse        285   \n",
       "4          87.4    cbse          2009          74.0  state board        436   \n",
       "\n",
       "   CollegeTier        Degree          Specialization  collegeGPA  \\\n",
       "0            1   B.Tech/B.E.  biomedical engineering       65.90   \n",
       "1            1   B.Tech/B.E.  biomedical engineering       69.54   \n",
       "2            1  M.Tech./M.E.                   other       82.50   \n",
       "3            1   B.Tech/B.E.    chemical engineering       62.40   \n",
       "4            1  M.Tech./M.E.                   other       72.79   \n",
       "\n",
       "   CollegeCityID  CollegeCityTier    CollegeState  GraduationYear  English  \\\n",
       "0            402                0  Madhya Pradesh            2010      405   \n",
       "1            332                0          Punjab            2011      525   \n",
       "2            443                0   Uttar Pradesh            2014      625   \n",
       "3            285                0          Punjab            2011      595   \n",
       "4            436                0     Uttarakhand            2014      625   \n",
       "\n",
       "   Logical  Quant  DomainScore  ComputerProgramming  ElectronicsAndSemicon  \\\n",
       "0      425    405          0.0                    0                      0   \n",
       "1      705    524          0.0                    0                      0   \n",
       "2      520    705          0.0                    0                      0   \n",
       "3      695    575          0.0                    0                      0   \n",
       "4      450    655          0.0                    0                      0   \n",
       "\n",
       "   ComputerScience  MechanicalEngg  ElectricalEngg  TelecomEngg  CivilEngg  \\\n",
       "0                0               0               0            0          0   \n",
       "1                0               0               0            0          0   \n",
       "2                0               0               0            0          0   \n",
       "3                0               0               0            0          0   \n",
       "4                0               0               0            0          0   \n",
       "\n",
       "   conscientiousness  agreeableness  extraversion  nueroticism  \\\n",
       "0             0.9737        -0.2793       -1.2148      -0.8778   \n",
       "1             0.9737        -0.1232       -1.0697       1.5899   \n",
       "2            -1.8825         0.5454       -0.9122      -0.1076   \n",
       "3            -1.0355         0.9688       -0.6343      -0.4078   \n",
       "4            -0.3027        -0.4536       -0.6048      -0.8682   \n",
       "\n",
       "   openess_to_experience  \n",
       "0                 0.5024  \n",
       "1                 0.9763  \n",
       "2                -1.4356  \n",
       "3                 0.0284  \n",
       "4                 0.0973  "
      ]
     },
     "execution_count": 135,
     "metadata": {},
     "output_type": "execute_result"
    }
   ],
   "source": [
    "df_main.head()"
   ]
  },
  {
   "cell_type": "markdown",
   "metadata": {},
   "source": [
    "#### Data Cleansing"
   ]
  },
  {
   "cell_type": "code",
   "execution_count": 136,
   "metadata": {},
   "outputs": [],
   "source": [
    "df = df_main.copy()\n",
    "# Drop irrelevant columns\n",
    "df.drop(['ID', 'DOJ', 'DOL','Original Designation','Designation'], axis=1, inplace=True)\n",
    "\n",
    "# Trim all string inputs\n",
    "df = df.apply(lambda x: x.str.strip() if x.dtype == \"object\" else x)\n",
    "\n",
    "# Encoding Gender as Binary (0 = Male, 1 = Female)\n",
    "df['Gender'] = df['Gender'].apply(lambda x: 1 if x.lower() == 'f' else 0)\n",
    "\n",
    "from datetime import datetime\n",
    "today = datetime.now()\n",
    "\n",
    "\n",
    "# Covering DOB to Age\n",
    "df['Age'] = df['DOB'].apply(lambda x: np.round((today - datetime.strptime(x, '%m/%d/%Y %H:%M')).days / 365),0)"
   ]
  },
  {
   "cell_type": "code",
   "execution_count": 137,
   "metadata": {
    "collapsed": true
   },
   "outputs": [],
   "source": [
    "cols = ['ComputerProgramming', 'ElectronicsAndSemicon', 'ComputerScience', 'MechanicalEngg', 'ElectricalEngg', 'TelecomEngg', 'CivilEngg']\n",
    "for col in cols:\n",
    "    df[col] = df[col].apply(lambda x: np.nan if x == 0 else x)\n",
    "\n",
    "df['SecScore'] = df[cols].mean(axis=1)\n",
    "df['SecScore'] = df['SecScore'].apply(lambda x: -1 if math.isnan(x) else x)\n",
    "\n",
    "for col in cols:\n",
    "    df[col] = df[col].apply(lambda x: 0 if math.isnan(x) else 1)\n"
   ]
  },
  {
   "cell_type": "code",
   "execution_count": 113,
   "metadata": {},
   "outputs": [
    {
     "data": {
      "text/plain": [
       "0        -1.000000\n",
       "1        -1.000000\n",
       "2        -1.000000\n",
       "3        -1.000000\n",
       "4        -1.000000\n",
       "5        -1.000000\n",
       "6       500.000000\n",
       "7       388.000000\n",
       "8        -1.000000\n",
       "9       388.000000\n",
       "10       -1.000000\n",
       "11       -1.000000\n",
       "12      460.000000\n",
       "13       -1.000000\n",
       "14       -1.000000\n",
       "15       -1.000000\n",
       "16       -1.000000\n",
       "17       -1.000000\n",
       "18       -1.000000\n",
       "19       -1.000000\n",
       "20      433.000000\n",
       "21       -1.000000\n",
       "22       -1.000000\n",
       "23      292.000000\n",
       "24       -1.000000\n",
       "25       -1.000000\n",
       "26       -1.000000\n",
       "27       -1.000000\n",
       "28       -1.000000\n",
       "29       -1.000000\n",
       "           ...    \n",
       "3958    411.666667\n",
       "3959    415.500000\n",
       "3960    495.500000\n",
       "3961    432.333333\n",
       "3962    501.500000\n",
       "3963    493.666667\n",
       "3964    553.000000\n",
       "3965    449.000000\n",
       "3966    449.000000\n",
       "3967    504.000000\n",
       "3968    443.000000\n",
       "3969    489.333333\n",
       "3970    580.000000\n",
       "3971    487.500000\n",
       "3972    492.500000\n",
       "3973    390.333333\n",
       "3974    564.000000\n",
       "3975    596.000000\n",
       "3976    379.333333\n",
       "3977    432.000000\n",
       "3978    606.000000\n",
       "3979    459.666667\n",
       "3980    612.000000\n",
       "3981    623.500000\n",
       "3982    633.000000\n",
       "3983    633.000000\n",
       "3984    421.000000\n",
       "3985    660.000000\n",
       "3986    660.000000\n",
       "3987    676.000000\n",
       "Name: SecScore, Length: 3988, dtype: float64"
      ]
     },
     "execution_count": 113,
     "metadata": {},
     "output_type": "execute_result"
    }
   ],
   "source": [
    "df['SecScore']"
   ]
  },
  {
   "cell_type": "code",
   "execution_count": 138,
   "metadata": {},
   "outputs": [],
   "source": [
    "# Rename columns\n",
    "df = df.rename(columns={'conscientiousness': 'Conscientiousness',\n",
    "                        'agreeableness': 'Agreeableness',\n",
    "                        'extraversion': 'Extraversion',\n",
    "                        'nueroticism': 'Nueroticism',\n",
    "                        'openess_to_experience': 'OTE'})\n",
    "\n",
    "# Create 1-hot features for categorical variables\n",
    "df = pd.concat([df, pd.get_dummies(df['Degree'])], axis=1)\n",
    "#df = pd.concat([df, pd.get_dummies(df['CollegeState'])], axis=1)\n",
    "\n",
    "# Filter for top 20 cities based on the number of records. Some cities have only 1 record and this is done to limit the outliers\n",
    "df = df[df.JobCity.isin(list(df.groupby(['JobCity']).size().nlargest(20).reset_index(drop=False)['JobCity']))]\n",
    "#df = pd.concat([df, pd.get_dummies(df['JobCity'])], axis=1)\n",
    "degree = df['Degree'].astype('category')\n",
    "#degree_val = dict(enumerate(degree.cat.categories))\n",
    "# Drop irrelevant columns\n",
    "df.drop(['JobCity', 'DOB', 'CollegeState', '10board', '12graduation', '12board', 'CollegeID', 'CollegeCityID', 'CollegeCityTier'], axis=1, inplace=True)\n",
    "\n",
    "# Create EECS as a combined specialization\n",
    "df['Specialization'] = df['Specialization'].apply(lambda x: 'Other Specialization' if x.lower() == 'other' else x)\n",
    "df['Specialization'] = df['Specialization'].apply(lambda x: 'Electrical Engineering & Computer Science' if x in ['electronics engineering', 'electrical engineering', 'computer science'] else x)\n",
    "df['Specialization'] = df['Specialization'].apply(lambda x: x.title())\n",
    "df = pd.concat([df, pd.get_dummies(df['Specialization'])], axis=1)\n",
    "df = pd.concat([df, pd.get_dummies(df['Domain'])], axis=1)\n",
    "domains = df['Domain'].astype('category')\n",
    "specializations = df['Specialization'].astype('category')\n",
    "\n",
    "#df.drop(['Specialization', 'Domain'], axis=1, inplace=True)"
   ]
  },
  {
   "cell_type": "code",
   "execution_count": 107,
   "metadata": {},
   "outputs": [
    {
     "data": {
      "text/plain": [
       "{0: 'Business',\n",
       " 1: 'Education',\n",
       " 2: 'Engineering',\n",
       " 3: 'Finance',\n",
       " 4: 'HR',\n",
       " 5: 'Management',\n",
       " 6: 'Marketing',\n",
       " 7: 'Operations',\n",
       " 8: 'QA',\n",
       " 9: 'Research',\n",
       " 10: 'Sales',\n",
       " 11: 'Support',\n",
       " 12: 'Tech',\n",
       " 13: 'UX/UI Design'}"
      ]
     },
     "execution_count": 107,
     "metadata": {},
     "output_type": "execute_result"
    }
   ],
   "source": [
    "# Create salary buckets and drop records for salary less than 1L\n",
    "X = df\n",
    "df.head(10)\n",
    "domains.head(10)\n",
    "domains_val"
   ]
  },
  {
   "cell_type": "code",
   "execution_count": 50,
   "metadata": {
    "scrolled": true
   },
   "outputs": [
    {
     "name": "stdout",
     "output_type": "stream",
     "text": [
      "Salary\n",
      "Gender\n",
      "CollegeTier\n",
      "collegeGPA\n",
      "GraduationYear\n",
      "English\n",
      "Logical\n",
      "Quant\n",
      "ComputerProgramming\n",
      "ElectronicsAndSemicon\n",
      "ComputerScience\n",
      "MechanicalEngg\n",
      "ElectricalEngg\n",
      "TelecomEngg\n",
      "CivilEngg\n",
      "Conscientiousness\n",
      "Agreeableness\n",
      "Extraversion\n",
      "Nueroticism\n",
      "OTE\n",
      "Age\n",
      "SecScore\n",
      "B.Tech/B.E.\n",
      "M.Sc. (Tech.)\n",
      "M.Tech./M.E.\n",
      "MCA\n",
      "Biomedical Engineering\n",
      "Chemical Engineering\n",
      "Civil Engineering\n",
      "Computer Application\n",
      "Electrical Engineering & Computer Science\n",
      "Information Technology\n",
      "Mechanical Engineering\n",
      "Other Specialization\n",
      "Business\n",
      "Education\n",
      "Engineering\n",
      "Finance\n",
      "HR\n",
      "Management\n",
      "Marketing\n",
      "Operations\n",
      "QA\n",
      "Research\n",
      "Sales\n",
      "Support\n",
      "Tech\n",
      "UX/UI Design\n"
     ]
    }
   ],
   "source": [
    "for val in X.columns:\n",
    "    print(val)"
   ]
  },
  {
   "cell_type": "markdown",
   "metadata": {},
   "source": [
    "### Do people of different genders get different salaries despite having similar scores? Are there other factors that need to be controlled in order to strengthen the correlation?"
   ]
  },
  {
   "cell_type": "code",
   "execution_count": 54,
   "metadata": {},
   "outputs": [
    {
     "name": "stdout",
     "output_type": "stream",
     "text": [
      "2432\n",
      "820\n"
     ]
    },
    {
     "name": "stderr",
     "output_type": "stream",
     "text": [
      "C:\\ProgramData\\Anaconda3\\envs\\python1\\lib\\site-packages\\ipykernel_launcher.py:3: SettingWithCopyWarning: \n",
      "A value is trying to be set on a copy of a slice from a DataFrame\n",
      "\n",
      "See the caveats in the documentation: http://pandas.pydata.org/pandas-docs/stable/indexing.html#indexing-view-versus-copy\n",
      "  This is separate from the ipykernel package so we can avoid doing imports until\n",
      "C:\\ProgramData\\Anaconda3\\envs\\python1\\lib\\site-packages\\ipykernel_launcher.py:4: SettingWithCopyWarning: \n",
      "A value is trying to be set on a copy of a slice from a DataFrame\n",
      "\n",
      "See the caveats in the documentation: http://pandas.pydata.org/pandas-docs/stable/indexing.html#indexing-view-versus-copy\n",
      "  after removing the cwd from sys.path.\n"
     ]
    }
   ],
   "source": [
    "males = df[df.Gender == 0]\n",
    "females = df[df.Gender == 1]\n",
    "males.drop(['Gender'], axis=1, inplace=True)\n",
    "females.drop(['Gender'], axis=1, inplace=True)\n",
    "print(len(males))\n",
    "print(len(females))"
   ]
  },
  {
   "cell_type": "markdown",
   "metadata": {},
   "source": [
    "#### Salary Distribution"
   ]
  },
  {
   "cell_type": "code",
   "execution_count": 55,
   "metadata": {
    "collapsed": true
   },
   "outputs": [],
   "source": [
    "import plotly \n",
    "plotly.tools.set_credentials_file(username='sanpal', api_key='Q4RL0ePaHEIHBXcUGiLB')"
   ]
  },
  {
   "cell_type": "code",
   "execution_count": 59,
   "metadata": {},
   "outputs": [
    {
     "data": {
      "text/html": [
       "<iframe id=\"igraph\" scrolling=\"no\" style=\"border:none;\" seamless=\"seamless\" src=\"https://plot.ly/~sanpal/2.embed\" height=\"525px\" width=\"100%\"></iframe>"
      ],
      "text/plain": [
       "<plotly.tools.PlotlyDisplay object>"
      ]
     },
     "execution_count": 59,
     "metadata": {},
     "output_type": "execute_result"
    }
   ],
   "source": [
    "import plotly.plotly as py\n",
    "import plotly.graph_objs as go\n",
    "trace1 = go.Scatter(\n",
    "    y = df.Salary,\n",
    "    mode='markers',\n",
    "    marker=dict(\n",
    "        size='4',\n",
    "        color = df.Gender, #set color equal to a variable\n",
    "        colorscale='Viridis',\n",
    "        showscale=True\n",
    "    )\n",
    ")\n",
    "data = [trace1]\n",
    "\n",
    "py.iplot(data, filename='gender-salary-amcat-distribution')"
   ]
  },
  {
   "cell_type": "code",
   "execution_count": 72,
   "metadata": {},
   "outputs": [
    {
     "data": {
      "text/html": [
       "<iframe id=\"igraph\" scrolling=\"no\" style=\"border:none;\" seamless=\"seamless\" src=\"https://plot.ly/~sanpal/4.embed\" height=\"525px\" width=\"100%\"></iframe>"
      ],
      "text/plain": [
       "<plotly.tools.PlotlyDisplay object>"
      ]
     },
     "execution_count": 72,
     "metadata": {},
     "output_type": "execute_result"
    }
   ],
   "source": [
    "trace0 = go.Scatter(\n",
    "    y = df.Salary,\n",
    "    x = df.Age,  \n",
    "    mode = 'markers',\n",
    "    marker = dict(\n",
    "        size = 10,\n",
    "        color = df.Gender,\n",
    "        colorscale='Viridis',\n",
    "        showscale= True\n",
    "    )\n",
    ")\n",
    "data = [trace0]\n",
    "py.iplot(data, filename='age-gender-salary-styled-scatter')\n"
   ]
  },
  {
   "cell_type": "code",
   "execution_count": 159,
   "metadata": {},
   "outputs": [
    {
     "data": {
      "text/html": [
       "<h4>Diverging</h4><div style=\"display:inline-block;padding:10px;\"><div>RdYlBu</div><div style=\"background-color:rgb(165,0,38);height:20px;width:20px;display:inline-block;\"></div><div style=\"background-color:rgb(215,48,39);height:20px;width:20px;display:inline-block;\"></div><div style=\"background-color:rgb(244,109,67);height:20px;width:20px;display:inline-block;\"></div><div style=\"background-color:rgb(253,174,97);height:20px;width:20px;display:inline-block;\"></div><div style=\"background-color:rgb(254,224,144);height:20px;width:20px;display:inline-block;\"></div><div style=\"background-color:rgb(255,255,191);height:20px;width:20px;display:inline-block;\"></div><div style=\"background-color:rgb(224,243,248);height:20px;width:20px;display:inline-block;\"></div><div style=\"background-color:rgb(171,217,233);height:20px;width:20px;display:inline-block;\"></div><div style=\"background-color:rgb(116,173,209);height:20px;width:20px;display:inline-block;\"></div><div style=\"background-color:rgb(69,117,180);height:20px;width:20px;display:inline-block;\"></div><div style=\"background-color:rgb(49,54,149);height:20px;width:20px;display:inline-block;\"></div></div><div style=\"display:inline-block;padding:10px;\"><div>BrBG</div><div style=\"background-color:rgb(84,48,5);height:20px;width:20px;display:inline-block;\"></div><div style=\"background-color:rgb(140,81,10);height:20px;width:20px;display:inline-block;\"></div><div style=\"background-color:rgb(191,129,45);height:20px;width:20px;display:inline-block;\"></div><div style=\"background-color:rgb(223,194,125);height:20px;width:20px;display:inline-block;\"></div><div style=\"background-color:rgb(246,232,195);height:20px;width:20px;display:inline-block;\"></div><div style=\"background-color:rgb(245,245,245);height:20px;width:20px;display:inline-block;\"></div><div style=\"background-color:rgb(199,234,229);height:20px;width:20px;display:inline-block;\"></div><div style=\"background-color:rgb(128,205,193);height:20px;width:20px;display:inline-block;\"></div><div style=\"background-color:rgb(53,151,143);height:20px;width:20px;display:inline-block;\"></div><div style=\"background-color:rgb(1,102,94);height:20px;width:20px;display:inline-block;\"></div><div style=\"background-color:rgb(0,60,48);height:20px;width:20px;display:inline-block;\"></div></div><div style=\"display:inline-block;padding:10px;\"><div>RdBu</div><div style=\"background-color:rgb(103,0,31);height:20px;width:20px;display:inline-block;\"></div><div style=\"background-color:rgb(178,24,43);height:20px;width:20px;display:inline-block;\"></div><div style=\"background-color:rgb(214,96,77);height:20px;width:20px;display:inline-block;\"></div><div style=\"background-color:rgb(244,165,130);height:20px;width:20px;display:inline-block;\"></div><div style=\"background-color:rgb(253,219,199);height:20px;width:20px;display:inline-block;\"></div><div style=\"background-color:rgb(247,247,247);height:20px;width:20px;display:inline-block;\"></div><div style=\"background-color:rgb(209,229,240);height:20px;width:20px;display:inline-block;\"></div><div style=\"background-color:rgb(146,197,222);height:20px;width:20px;display:inline-block;\"></div><div style=\"background-color:rgb(67,147,195);height:20px;width:20px;display:inline-block;\"></div><div style=\"background-color:rgb(33,102,172);height:20px;width:20px;display:inline-block;\"></div><div style=\"background-color:rgb(5,48,97);height:20px;width:20px;display:inline-block;\"></div></div><div style=\"display:inline-block;padding:10px;\"><div>PiYG</div><div style=\"background-color:rgb(142,1,82);height:20px;width:20px;display:inline-block;\"></div><div style=\"background-color:rgb(197,27,125);height:20px;width:20px;display:inline-block;\"></div><div style=\"background-color:rgb(222,119,174);height:20px;width:20px;display:inline-block;\"></div><div style=\"background-color:rgb(241,182,218);height:20px;width:20px;display:inline-block;\"></div><div style=\"background-color:rgb(253,224,239);height:20px;width:20px;display:inline-block;\"></div><div style=\"background-color:rgb(247,247,247);height:20px;width:20px;display:inline-block;\"></div><div style=\"background-color:rgb(230,245,208);height:20px;width:20px;display:inline-block;\"></div><div style=\"background-color:rgb(184,225,134);height:20px;width:20px;display:inline-block;\"></div><div style=\"background-color:rgb(127,188,65);height:20px;width:20px;display:inline-block;\"></div><div style=\"background-color:rgb(77,146,33);height:20px;width:20px;display:inline-block;\"></div><div style=\"background-color:rgb(39,100,25);height:20px;width:20px;display:inline-block;\"></div></div><div style=\"display:inline-block;padding:10px;\"><div>Spectral</div><div style=\"background-color:rgb(158,1,66);height:20px;width:20px;display:inline-block;\"></div><div style=\"background-color:rgb(213,62,79);height:20px;width:20px;display:inline-block;\"></div><div style=\"background-color:rgb(244,109,67);height:20px;width:20px;display:inline-block;\"></div><div style=\"background-color:rgb(253,174,97);height:20px;width:20px;display:inline-block;\"></div><div style=\"background-color:rgb(254,224,139);height:20px;width:20px;display:inline-block;\"></div><div style=\"background-color:rgb(255,255,191);height:20px;width:20px;display:inline-block;\"></div><div style=\"background-color:rgb(230,245,152);height:20px;width:20px;display:inline-block;\"></div><div style=\"background-color:rgb(171,221,164);height:20px;width:20px;display:inline-block;\"></div><div style=\"background-color:rgb(102,194,165);height:20px;width:20px;display:inline-block;\"></div><div style=\"background-color:rgb(50,136,189);height:20px;width:20px;display:inline-block;\"></div><div style=\"background-color:rgb(94,79,162);height:20px;width:20px;display:inline-block;\"></div></div><div style=\"display:inline-block;padding:10px;\"><div>PRGn</div><div style=\"background-color:rgb(64,0,75);height:20px;width:20px;display:inline-block;\"></div><div style=\"background-color:rgb(118,42,131);height:20px;width:20px;display:inline-block;\"></div><div style=\"background-color:rgb(153,112,171);height:20px;width:20px;display:inline-block;\"></div><div style=\"background-color:rgb(194,165,207);height:20px;width:20px;display:inline-block;\"></div><div style=\"background-color:rgb(231,212,232);height:20px;width:20px;display:inline-block;\"></div><div style=\"background-color:rgb(247,247,247);height:20px;width:20px;display:inline-block;\"></div><div style=\"background-color:rgb(217,240,211);height:20px;width:20px;display:inline-block;\"></div><div style=\"background-color:rgb(166,219,160);height:20px;width:20px;display:inline-block;\"></div><div style=\"background-color:rgb(90,174,97);height:20px;width:20px;display:inline-block;\"></div><div style=\"background-color:rgb(27,120,55);height:20px;width:20px;display:inline-block;\"></div><div style=\"background-color:rgb(0,68,27);height:20px;width:20px;display:inline-block;\"></div></div><div style=\"display:inline-block;padding:10px;\"><div>RdGy</div><div style=\"background-color:rgb(103,0,31);height:20px;width:20px;display:inline-block;\"></div><div style=\"background-color:rgb(178,24,43);height:20px;width:20px;display:inline-block;\"></div><div style=\"background-color:rgb(214,96,77);height:20px;width:20px;display:inline-block;\"></div><div style=\"background-color:rgb(244,165,130);height:20px;width:20px;display:inline-block;\"></div><div style=\"background-color:rgb(253,219,199);height:20px;width:20px;display:inline-block;\"></div><div style=\"background-color:rgb(255,255,255);height:20px;width:20px;display:inline-block;\"></div><div style=\"background-color:rgb(224,224,224);height:20px;width:20px;display:inline-block;\"></div><div style=\"background-color:rgb(186,186,186);height:20px;width:20px;display:inline-block;\"></div><div style=\"background-color:rgb(135,135,135);height:20px;width:20px;display:inline-block;\"></div><div style=\"background-color:rgb(77,77,77);height:20px;width:20px;display:inline-block;\"></div><div style=\"background-color:rgb(26,26,26);height:20px;width:20px;display:inline-block;\"></div></div><div style=\"display:inline-block;padding:10px;\"><div>RdYlGn</div><div style=\"background-color:rgb(165,0,38);height:20px;width:20px;display:inline-block;\"></div><div style=\"background-color:rgb(215,48,39);height:20px;width:20px;display:inline-block;\"></div><div style=\"background-color:rgb(244,109,67);height:20px;width:20px;display:inline-block;\"></div><div style=\"background-color:rgb(253,174,97);height:20px;width:20px;display:inline-block;\"></div><div style=\"background-color:rgb(254,224,139);height:20px;width:20px;display:inline-block;\"></div><div style=\"background-color:rgb(255,255,191);height:20px;width:20px;display:inline-block;\"></div><div style=\"background-color:rgb(217,239,139);height:20px;width:20px;display:inline-block;\"></div><div style=\"background-color:rgb(166,217,106);height:20px;width:20px;display:inline-block;\"></div><div style=\"background-color:rgb(102,189,99);height:20px;width:20px;display:inline-block;\"></div><div style=\"background-color:rgb(26,152,80);height:20px;width:20px;display:inline-block;\"></div><div style=\"background-color:rgb(0,104,55);height:20px;width:20px;display:inline-block;\"></div></div><div style=\"display:inline-block;padding:10px;\"><div>PuOr</div><div style=\"background-color:rgb(127,59,8);height:20px;width:20px;display:inline-block;\"></div><div style=\"background-color:rgb(179,88,6);height:20px;width:20px;display:inline-block;\"></div><div style=\"background-color:rgb(224,130,20);height:20px;width:20px;display:inline-block;\"></div><div style=\"background-color:rgb(253,184,99);height:20px;width:20px;display:inline-block;\"></div><div style=\"background-color:rgb(254,224,182);height:20px;width:20px;display:inline-block;\"></div><div style=\"background-color:rgb(247,247,247);height:20px;width:20px;display:inline-block;\"></div><div style=\"background-color:rgb(216,218,235);height:20px;width:20px;display:inline-block;\"></div><div style=\"background-color:rgb(178,171,210);height:20px;width:20px;display:inline-block;\"></div><div style=\"background-color:rgb(128,115,172);height:20px;width:20px;display:inline-block;\"></div><div style=\"background-color:rgb(84,39,136);height:20px;width:20px;display:inline-block;\"></div><div style=\"background-color:rgb(45,0,75);height:20px;width:20px;display:inline-block;\"></div></div><h4>Qualitative</h4><div style=\"display:inline-block;padding:10px;\"><div>Set3</div><div style=\"background-color:rgb(141,211,199);height:20px;width:20px;display:inline-block;\"></div><div style=\"background-color:rgb(255,255,179);height:20px;width:20px;display:inline-block;\"></div><div style=\"background-color:rgb(190,186,218);height:20px;width:20px;display:inline-block;\"></div><div style=\"background-color:rgb(251,128,114);height:20px;width:20px;display:inline-block;\"></div><div style=\"background-color:rgb(128,177,211);height:20px;width:20px;display:inline-block;\"></div><div style=\"background-color:rgb(253,180,98);height:20px;width:20px;display:inline-block;\"></div><div style=\"background-color:rgb(179,222,105);height:20px;width:20px;display:inline-block;\"></div><div style=\"background-color:rgb(252,205,229);height:20px;width:20px;display:inline-block;\"></div><div style=\"background-color:rgb(217,217,217);height:20px;width:20px;display:inline-block;\"></div><div style=\"background-color:rgb(188,128,189);height:20px;width:20px;display:inline-block;\"></div><div style=\"background-color:rgb(204,235,197);height:20px;width:20px;display:inline-block;\"></div></div><div style=\"display:inline-block;padding:10px;\"><div>Paired</div><div style=\"background-color:rgb(166,206,227);height:20px;width:20px;display:inline-block;\"></div><div style=\"background-color:rgb(31,120,180);height:20px;width:20px;display:inline-block;\"></div><div style=\"background-color:rgb(178,223,138);height:20px;width:20px;display:inline-block;\"></div><div style=\"background-color:rgb(51,160,44);height:20px;width:20px;display:inline-block;\"></div><div style=\"background-color:rgb(251,154,153);height:20px;width:20px;display:inline-block;\"></div><div style=\"background-color:rgb(227,26,28);height:20px;width:20px;display:inline-block;\"></div><div style=\"background-color:rgb(253,191,111);height:20px;width:20px;display:inline-block;\"></div><div style=\"background-color:rgb(255,127,0);height:20px;width:20px;display:inline-block;\"></div><div style=\"background-color:rgb(202,178,214);height:20px;width:20px;display:inline-block;\"></div><div style=\"background-color:rgb(106,61,154);height:20px;width:20px;display:inline-block;\"></div><div style=\"background-color:rgb(255,255,153);height:20px;width:20px;display:inline-block;\"></div></div>"
      ],
      "text/plain": [
       "<IPython.core.display.HTML object>"
      ]
     },
     "execution_count": 159,
     "metadata": {},
     "output_type": "execute_result"
    }
   ],
   "source": [
    "import colorlover as cl\n",
    "from IPython.display import HTML\n",
    "HTML(cl.to_html( cl.scales['11'] ))"
   ]
  },
  {
   "cell_type": "code",
   "execution_count": 162,
   "metadata": {},
   "outputs": [
    {
     "name": "stdout",
     "output_type": "stream",
     "text": [
      "This is the format of your plot grid:\n",
      "[ (1,1) x1,y1 ]  [ (1,2) x2,y2 ]\n",
      "[ (2,1) x3,y3 ]  [ (2,2) x4,y4 ]\n",
      "\n"
     ]
    },
    {
     "data": {
      "text/html": [
       "<iframe id=\"igraph\" scrolling=\"no\" style=\"border:none;\" seamless=\"seamless\" src=\"https://plot.ly/~sanpal/8.embed\" height=\"1000px\" width=\"1000px\"></iframe>"
      ],
      "text/plain": [
       "<plotly.tools.PlotlyDisplay object>"
      ]
     },
     "execution_count": 162,
     "metadata": {},
     "output_type": "execute_result"
    }
   ],
   "source": [
    "from plotly import tools\n",
    "tracea = go.Scatter(\n",
    "    y = df.Salary,\n",
    "    x = df.English,  \n",
    "    mode = 'markers',\n",
    "    name = 'English Score',\n",
    "    marker = dict(\n",
    "        size = 10,\n",
    "        color = df.Gender, \n",
    "        colorscale = 'Viridis'\n",
    "    )\n",
    ")\n",
    "traceb = go.Scatter(\n",
    "    y = df.Salary,\n",
    "    x = df.Logical,  \n",
    "    mode = 'markers',\n",
    "    name = 'Logical Score',\n",
    "    marker = dict(\n",
    "        size = 10,\n",
    "        color = df.Gender, \n",
    "        colorscale = 'RdBu'        \n",
    "    )\n",
    ")\n",
    "tracec = go.Scatter(\n",
    "    y = df.Salary,\n",
    "    x = df.Quant,  \n",
    "    mode = 'markers',\n",
    "    name = 'Quant Score',\n",
    "    marker = dict(\n",
    "        size = 10,\n",
    "        color = df.Gender, \n",
    "        colorscale = 'Viridis'    \n",
    "    )\n",
    ")\n",
    "traced = go.Scatter(\n",
    "    y = df.Salary,\n",
    "    x = df.SecScore,  \n",
    "    mode = 'markers',\n",
    "    name = 'Sectional Score',\n",
    "    marker = dict(\n",
    "        size = 10,\n",
    "        color = df.Gender, \n",
    "        colorscale = 'RdBu'                    \n",
    "    )\n",
    ")\n",
    "data = [tracea, traceb, tracec,traced]\n",
    "fig = tools.make_subplots(rows=2, cols=2, subplot_titles=('English', 'Logical',\n",
    "                                                          'Quant', 'Sectional Score'))\n",
    "\n",
    "fig.append_trace(tracea, 1, 1)\n",
    "fig.append_trace(traceb, 1, 2)\n",
    "fig.append_trace(tracec, 2, 1)\n",
    "fig.append_trace(traced, 2, 2)\n",
    "\n",
    "fig['layout'].update(height=1000, width=1000, title='Multiple Subplots' +\n",
    "                                                  ' with Titles')\n",
    "\n",
    "py.iplot(fig, filename='make-subplots-multiple-with-titles')"
   ]
  },
  {
   "cell_type": "code",
   "execution_count": 60,
   "metadata": {},
   "outputs": [
    {
     "data": {
      "text/plain": [
       "Ttest_indResult(statistic=0.59547011455703713, pvalue=0.5515707313771322)"
      ]
     },
     "execution_count": 60,
     "metadata": {},
     "output_type": "execute_result"
    }
   ],
   "source": [
    "# enter your code here\n",
    "import scipy.stats as stats\n",
    "stats.ttest_ind(males.Salary,females.Salary)"
   ]
  },
  {
   "cell_type": "code",
   "execution_count": 148,
   "metadata": {},
   "outputs": [
    {
     "data": {
      "text/html": [
       "<iframe id=\"igraph\" scrolling=\"no\" style=\"border:none;\" seamless=\"seamless\" src=\"https://plot.ly/~sanpal/12.embed\" height=\"525px\" width=\"100%\"></iframe>"
      ],
      "text/plain": [
       "<plotly.tools.PlotlyDisplay object>"
      ]
     },
     "execution_count": 148,
     "metadata": {},
     "output_type": "execute_result"
    }
   ],
   "source": [
    "males = df[df.Gender == 0]\n",
    "females = df[df.Gender == 1]\n",
    "data = [\n",
    "    go.Parcoords(\n",
    "        line = dict(colorscale = 'Jet',\n",
    "                   showscale = True,\n",
    "                   reversescale = True,\n",
    "                   cmin = -4000,\n",
    "                   cmax = -100),\n",
    "        dimensions = list([\n",
    "            dict(tickvals = [1,2,3,4],\n",
    "                 ticktext = (males.Degree).astype('category').cat.categories,\n",
    "                 label = 'Degree', values = (males.Degree).astype('category').cat.codes),\n",
    "            dict(tickvals = [1,2,3,4,5,6,7],\n",
    "                 ticktext = (males.Specialization).astype('category').cat.categories,\n",
    "                 label = 'Specializations', values = (males.Specialization).astype('category').cat.codes),\n",
    "            dict(range = [0,100],                 \n",
    "                 label = 'College GPA', values = males.collegeGPA),\n",
    "            dict(range = [0,900],\n",
    "                 label = 'Quant', values = males.Quant),\n",
    "            dict(range = [0,100],\n",
    "                 label = '10th Percentage', values = males['10percentage']),\n",
    "            dict(label = 'Nueroticism', values = males.Nueroticism),\n",
    "            dict(range = [0,100],\n",
    "                 label = '12th Percentage', values = males['12percentage']),\n",
    "            dict(label = 'English', values = males.English),\n",
    "            dict(range = [0,900],\n",
    "                label = 'Sectional Score', values = males.SecScore),\n",
    "            dict(label = 'Extraversion', values = males.Extraversion),\n",
    "            dict(label = 'Conscientiousness', values = males.Conscientiousness),\n",
    "            dict(range = [0,900],\n",
    "                 label = 'Logical', values = males.Logical),\n",
    "            dict(label = 'Agreeableness', values = males.Agreeableness),\n",
    "            dict(label = 'Openness to Exposure', values = males.OTE),\n",
    "            dict(range=[50000,1000000],label = 'Salary', values = males.Salary),\n",
    "            dict(tickvals = [1,2,3,4,5,6,7,8,9,10,11,12,13,14],\n",
    "                 ticktext = (males.Domain).astype('category').cat.categories,\n",
    "                 label = 'Domains', values = (males.Domain).astype('category').cat.codes)\n",
    "        ])\n",
    "    )\n",
    "]\n",
    "\n",
    "layout = go.Layout(\n",
    "    plot_bgcolor = '#E5E5E5',\n",
    "    paper_bgcolor = '#E5E5E5',\n",
    "    height=1200,\n",
    "    width=1000\n",
    ")\n",
    "\n",
    "fig = go.Figure(data = data, layout = layout,)\n",
    "py.iplot(data, filename = 'parcoords-male')"
   ]
  },
  {
   "cell_type": "code",
   "execution_count": 149,
   "metadata": {},
   "outputs": [
    {
     "data": {
      "text/html": [
       "<iframe id=\"igraph\" scrolling=\"no\" style=\"border:none;\" seamless=\"seamless\" src=\"https://plot.ly/~sanpal/13.embed\" height=\"525px\" width=\"100%\"></iframe>"
      ],
      "text/plain": [
       "<plotly.tools.PlotlyDisplay object>"
      ]
     },
     "execution_count": 149,
     "metadata": {},
     "output_type": "execute_result"
    }
   ],
   "source": [
    "data = [\n",
    "    go.Parcoords(\n",
    "        line = dict(colorscale = 'Jet',\n",
    "                   showscale = True,\n",
    "                   reversescale = True,\n",
    "                   cmin = -4000,\n",
    "                   cmax = -100),\n",
    "        dimensions = list([\n",
    "            dict(tickvals = [1,2,3,4],\n",
    "                 ticktext = (females.Degree).astype('category').cat.categories,\n",
    "                 label = 'Degree', values = (females.Degree).astype('category').cat.codes),\n",
    "            dict(tickvals = [1,2,3,4,5,6,7],\n",
    "                 ticktext = (females.Specialization).astype('category').cat.categories,\n",
    "                 label = 'Specializations', values = (females.Specialization).astype('category').cat.codes),\n",
    "            dict(range = [0,100],                 \n",
    "                 label = 'College GPA', values = females.collegeGPA),\n",
    "            dict(range = [0,900],\n",
    "                 label = 'Quant', values = females.Quant),\n",
    "            dict(range = [0,100],\n",
    "                 label = '10th Percentage', values = females['10percentage']),\n",
    "            dict(label = 'Nueroticism', values = females.Nueroticism),\n",
    "            dict(range = [0,100],\n",
    "                 label = '12th Percentage', values = females['12percentage']),\n",
    "            dict(label = 'English', values = females.English),\n",
    "            dict(range = [0,900],\n",
    "                label = 'Sectional Score', values = females.SecScore),\n",
    "            dict(label = 'Extraversion', values = females.Extraversion),\n",
    "            dict(label = 'Conscientiousness', values = females.Conscientiousness),\n",
    "            dict(range = [0,900],\n",
    "                 label = 'Logical', values = females.Logical),\n",
    "            dict(label = 'Agreeableness', values = females.Agreeableness),\n",
    "            dict(label = 'Openness to Exposure', values = females.OTE),  \n",
    "            dict(range = [50000,1000000],label = 'Salary', values = females.Salary),\n",
    "            dict(tickvals = [1,2,3,4,5,6,7,8,9,10,11,12,13,14],\n",
    "                 ticktext = (females.Domain).astype('category').cat.categories,\n",
    "                 label = 'Domains', values = (females.Domain).astype('category').cat.codes)\n",
    "        ])\n",
    "    )\n",
    "]\n",
    "\n",
    "layout = go.Layout(\n",
    "    plot_bgcolor = '#E5E5E5',\n",
    "    paper_bgcolor = '#E5E5E5',\n",
    "    height=1200,\n",
    "    width=1000\n",
    ")\n",
    "\n",
    "fig = go.Figure(data = data, layout = layout,)\n",
    "py.iplot(data, filename = 'parcoords-female')"
   ]
  },
  {
   "cell_type": "markdown",
   "metadata": {},
   "source": [
    "### Is there any effect of the behavioral profile of students with the type of job they get ? If so , could Placement Representatives benefit from such an iformation to bring in better colleges for placement of students ?"
   ]
  },
  {
   "cell_type": "markdown",
   "metadata": {},
   "source": [
    "### Does getting a graduate degree, help you get higher salaries at the same scores ?"
   ]
  }
 ],
 "metadata": {
  "kernelspec": {
   "display_name": "Python 3",
   "language": "python",
   "name": "python3"
  },
  "language_info": {
   "codemirror_mode": {
    "name": "ipython",
    "version": 3
   },
   "file_extension": ".py",
   "mimetype": "text/x-python",
   "name": "python",
   "nbconvert_exporter": "python",
   "pygments_lexer": "ipython3",
   "version": "3.5.4"
  }
 },
 "nbformat": 4,
 "nbformat_minor": 2
}
